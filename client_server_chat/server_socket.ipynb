{
 "cells": [
  {
   "cell_type": "code",
   "execution_count": null,
   "metadata": {},
   "outputs": [
    {
     "name": "stdout",
     "output_type": "stream",
     "text": [
      "[+] Listening on 127.0.0.1:5090\n",
      "[+] Got connection from ('127.0.0.1', 58624)\n"
     ]
    }
   ],
   "source": [
    "import socket\n",
    "\n",
    "server_socket = socket.socket(socket.AF_INET,socket.SOCK_STREAM)\n",
    "server_socket.bind(('127.0.0.1',5090))\n",
    "server_socket.listen()\n",
    "print('[+] Listening on 127.0.0.1:5090')\n",
    "\n",
    "def serve_client(con,addr):\n",
    "    print('[+] Got connection from {}'.format(addr))\n",
    "    try:\n",
    "        while True:\n",
    "            data = con.recv(1024)\n",
    "            rdata = data.decode()\n",
    "            if('tata' in rdata.split(' ')):\n",
    "                con.send(b'')\n",
    "                break\n",
    "            print('[+] Client sent: {}'.format(rdata))\n",
    "\n",
    "            server_data = input('Enter data to sent: ')\n",
    "            con.send(server_data.encode())\n",
    "        con.close()\n",
    "        \n",
    "    except (ConnectionRefusedError):\n",
    "        print('Connection is aborted')\n",
    "\n",
    "    except (ConnectionRefusedError):\n",
    "        print('Connection Refused')\n",
    "\n",
    "    finally:\n",
    "        print('[+] Client {} disconnected...'.format(addr))\n",
    "\n",
    "while True:\n",
    "\n",
    "    con,addr = server_socket.accept()\n",
    "    serve_client(con,addr)"
   ]
  },
  {
   "cell_type": "code",
   "execution_count": null,
   "metadata": {},
   "outputs": [],
   "source": []
  },
  {
   "cell_type": "code",
   "execution_count": null,
   "metadata": {},
   "outputs": [],
   "source": []
  }
 ],
 "metadata": {
  "kernelspec": {
   "display_name": "Python 3",
   "language": "python",
   "name": "python3"
  },
  "language_info": {
   "codemirror_mode": {
    "name": "ipython",
    "version": 3
   },
   "file_extension": ".py",
   "mimetype": "text/x-python",
   "name": "python",
   "nbconvert_exporter": "python",
   "pygments_lexer": "ipython3",
   "version": "3.8.3"
  }
 },
 "nbformat": 4,
 "nbformat_minor": 2
}
