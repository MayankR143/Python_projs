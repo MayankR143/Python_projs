{
 "cells": [
  {
   "cell_type": "code",
   "execution_count": null,
   "metadata": {},
   "outputs": [
    {
     "name": "stdout",
     "output_type": "stream",
     "text": [
      "[+] Trying to connect with 127.0.0.1:5090\n"
     ]
    }
   ],
   "source": [
    "import socket\n",
    "\n",
    "client_socket = socket.socket(socket.AF_INET, socket.SOCK_STREAM)\n",
    "\n",
    "try:\n",
    "    client_socket.connect(('127.0.0.1',5090))\n",
    "    print('[+] Trying to connect with 127.0.0.1:5090')\n",
    "    \n",
    "    while True:\n",
    "        data = input('Enter data to send: ')\n",
    "        client_socket.send(data.encode())\n",
    "\n",
    "        server_data = client_socket.recv(1024)\n",
    "        if(server_data.decode()==''):\n",
    "            print('[+] Server is disconnected...')\n",
    "            break\n",
    "\n",
    "        print('[+] Server sent: {}'.format(server_data.decode()))\n",
    "\n",
    "except (ConnectionRefusedError):\n",
    "    print('connection refused')\n",
    "\n",
    "finally:\n",
    "    client_socket.close()"
   ]
  },
  {
   "cell_type": "code",
   "execution_count": null,
   "metadata": {},
   "outputs": [],
   "source": []
  }
 ],
 "metadata": {
  "kernelspec": {
   "display_name": "Python 3",
   "language": "python",
   "name": "python3"
  },
  "language_info": {
   "codemirror_mode": {
    "name": "ipython",
    "version": 3
   },
   "file_extension": ".py",
   "mimetype": "text/x-python",
   "name": "python",
   "nbconvert_exporter": "python",
   "pygments_lexer": "ipython3",
   "version": "3.8.3"
  }
 },
 "nbformat": 4,
 "nbformat_minor": 2
}
